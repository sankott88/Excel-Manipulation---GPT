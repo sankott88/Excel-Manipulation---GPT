{
 "cells": [
  {
   "cell_type": "code",
   "execution_count": 1,
   "id": "db618460-3c14-43ad-89d5-37b8ca3c4a4d",
   "metadata": {},
   "outputs": [],
   "source": [
    "import pandas as pd\n",
    "from openai import OpenAI\n",
    "from datetime import datetime\n",
    "import json"
   ]
  },
  {
   "cell_type": "code",
   "execution_count": 2,
   "id": "0cbb7723-84e1-4131-8f6d-732b75dd4c7f",
   "metadata": {},
   "outputs": [],
   "source": [
    "# Initialize OpenAI client with your API key\n",
    "import openai\n",
    "openai.api_key = \"Yourkeyhere\"\n",
    "client = openai.OpenAI(api_key=\"Yourkeyhere\")\n"
   ]
  },
  {
   "cell_type": "code",
   "execution_count": 3,
   "id": "cbe13469-5fab-4462-808e-07de619f2e2e",
   "metadata": {},
   "outputs": [
    {
     "name": "stdout",
     "output_type": "stream",
     "text": [
      "File extraction done\n"
     ]
    }
   ],
   "source": [
    "# Load template and input Excel files\n",
    "#template = pd.ExcelFile('template.xlsx')\n",
    "input_file_name = \"Test.xlsx\"\n",
    "output_file_name = \"Done-Test.xlsx\"\n",
    "input_data = pd.read_excel(input_file_name, sheet_name=None)  # read all sheets into a dict of DataFrames\n",
    "print(\"File extraction done\")"
   ]
  },
  {
   "cell_type": "code",
   "execution_count": 4,
   "id": "31bd7fa4-79a6-4a25-b02c-446e50adc51e",
   "metadata": {
    "collapsed": true,
    "jupyter": {
     "outputs_hidden": true
    },
    "scrolled": true
   },
   "outputs": [
    {
     "name": "stdout",
     "output_type": "stream",
     "text": [
      "                Domain                                       Name  \\\n",
      "0  avatar.deloitte.com                          disclaimer_agreed   \n",
      "1  avatar.deloitte.com                                       s_nr   \n",
      "2         deloitte.com                     TEST_AMCV_COOKIE_WRITE   \n",
      "3         deloitte.com   AMCV_42A70C3A53DADE170A490D4D%40AdobeOrg   \n",
      "4         deloitte.com  AMCVS_42A70C3A53DADE170A490D4D%40AdobeOrg   \n",
      "\n",
      "                                               Value  \\\n",
      "0                                               True   \n",
      "1                                  1750926150470-New   \n",
      "2                                                NaN   \n",
      "3  179643557%7CMCIDTS%7C20266%7CMCMID%7C588699990...   \n",
      "4                                               True   \n",
      "\n",
      "                 Expiration   Lifespan  ThirdParty Path  Secure  HTTP Only  \\\n",
      "0  2025-07-26T08:22:24.000Z  Permanent       False    /   False      False   \n",
      "1                  Infinity    Session       False    /   False      False   \n",
      "2  1970-01-01T00:00:01.000Z  Permanent       False    /   False      False   \n",
      "3  2027-06-26T08:22:19.000Z  Permanent       False    /   False      False   \n",
      "4                  Infinity    Session       False    /   False      False   \n",
      "\n",
      "   Source                                             Set By  \\\n",
      "0  script      https://avatar.deloitte.com/chunk-Q5AMFDEQ.js   \n",
      "1  script  https://assets.adobedtm.com/571f1a0c43d6/07154...   \n",
      "2  script  https://assets.adobedtm.com/571f1a0c43d6/07154...   \n",
      "3  script  https://avatar.deloitte.com/polyfills-FFHMD2TL.js   \n",
      "4  script  https://avatar.deloitte.com/polyfills-FFHMD2TL.js   \n",
      "\n",
      "                                       Page Category Description  \n",
      "0  https://avatar.deloitte.com/data-sources                       \n",
      "1  https://avatar.deloitte.com/data-sources                       \n",
      "2  https://avatar.deloitte.com/data-sources                       \n",
      "3  https://avatar.deloitte.com/data-sources                       \n",
      "4  https://avatar.deloitte.com/data-sources                       \n"
     ]
    }
   ],
   "source": [
    "# Process Cookies sheet\n",
    "cookies_df = input_data.get('Cookies')\n",
    "\n",
    "#Ensure required columns exist\n",
    "for col in ['Category', 'Description']:\n",
    "    if col not in cookies_df.columns:\n",
    "        cookies_df[col] = ''\n",
    "\n",
    "print(cookies_df.head())"
   ]
  },
  {
   "cell_type": "code",
   "execution_count": 5,
   "id": "2c8bd7a1-225f-403a-877c-e381ecf4dd9d",
   "metadata": {},
   "outputs": [
    {
     "name": "stdout",
     "output_type": "stream",
     "text": [
      "log: 2025-07-26T08:22:24.000Z\n",
      "GPT: {\n",
      "    \"Category\": \"Strictly Necessary Cookies\",\n",
      "    \"Description\": \"Required to track user agreement with website disclaimers.\"\n",
      "}\n",
      "Got the category done\n",
      "GPT: {\n",
      "    \"Category\": \"Analytics and Performance Cookies\",\n",
      "    \"Description\": \"Used by Adobe Analytics to identify unique visitors.\"\n",
      "}\n",
      "Got the category done\n",
      "log: 1970-01-01T00:00:01.000Z\n",
      "GPT: {\n",
      "    \"Category\": \"Analytics and Performance Cookies\",\n",
      "    \"Description\": \"Used to track user behavior and measure website performance.\"\n",
      "}\n",
      "Got the category done\n",
      "log: 2027-06-26T08:22:19.000Z\n",
      "GPT: {\n",
      "    \"Category\": \"Analytics and Performance Cookies\",\n",
      "    \"Description\": \"Used by Adobe Analytics to collect anonymous data on user behavior and website interactions.\"\n",
      "}\n",
      "Got the category done\n",
      "GPT: {\n",
      "    \"Category\": \"Analytics and Performance Cookies\",\n",
      "    \"Description\": \"This cookie is used to collect information about how visitors use the website for analytics purposes.\"\n",
      "}\n",
      "Got the category done\n",
      "log: 1970-01-01T00:00:00.000Z\n",
      "GPT: {\n",
      "    \"Category\": \"Analytics and Performance Cookies\",\n",
      "    \"Description\": \"Cookie used for tracking user behavior and website performance.\"\n",
      "}\n",
      "Got the category done\n",
      "GPT: {\n",
      "    \"Category\": \"Analytics and Performance Cookies\",\n",
      "    \"Description\": \"Cookie used by Adobe Analytics to determine whether cookies are enabled in the browser.\"\n",
      "}\n",
      "Got the category done\n",
      "log: 2025-12-23T08:22:20.000Z\n",
      "GPT: {\n",
      "    \"Category\": \"Advertising and Targeting Cookies\",\n",
      "    \"Description\": \"Used by Adobe Audience Manager to collect and store visitor data for targeted advertising.\"\n",
      "}\n",
      "Got the category done\n",
      "GPT: {\n",
      "    \"Category\": \"Advertising and Targeting Cookies\",\n",
      "    \"Description\": \"Used for targeted advertising and tracking user behavior across websites.\"\n",
      "}\n",
      "Got the category done\n",
      "GPT: {\n",
      "    \"Category\": \"Analytics and Performance Cookies\",\n",
      "    \"Description\": \"Used to track user sessions and behavior for website performance analysis.\"\n",
      "}\n",
      "Got the category done\n"
     ]
    }
   ],
   "source": [
    "import time\n",
    "\n",
    "cookies_df['Description'] = cookies_df['Description'].astype(str)\n",
    "cookies_df['Category'] = cookies_df['Category'].astype(str)\n",
    "\n",
    "# Iterate through each row in Cookies sheet\n",
    "for i, row in cookies_df.iterrows():\n",
    "    name = row['Name']  # get the cookie name\n",
    "    expiration = row['Expiration']  # get expiration value\n",
    "    lifespan = row['Lifespan']  # get lifespan value\n",
    "    # Check and format expiration date or lifespan\n",
    "    if expiration == 'Infinity':\n",
    "            # If expiration is Infinity, set lifespan as Session\n",
    "            cookies_df.at[i, 'Lifespan'] = 'Session'    \n",
    "    elif pd.notnull(expiration) and expiration != 'Infinity': \n",
    "        # Format valid date to required ISO format\n",
    "        expiration = str(expiration).strip()  # remove spaces\n",
    "        expiration = expiration.replace('/', '-')  # replace slashes with dashes if needed\n",
    "        expiration = pd.to_datetime(expiration,errors='coerce').strftime('%Y-%m-%dT%H:%M:%S.000Z')    \n",
    "        print(\"log:\",expiration)\n",
    "        cookies_df.at[i, 'Expiration'] = expiration\n",
    "        cookies_df.at[i, 'Lifespan'] = 'Permanent'\n",
    "    elif lifespan == 'Session':\n",
    "        # If lifespan is Session, set the expiration as Infinity\n",
    "        cookies_df.at[i, 'Expiration'] = 'Infinity'\n",
    "# Call ChatGPT to categorize cookie and generate description\n",
    "    response = client.chat.completions.create(\n",
    "        model=\"gpt-3.5-turbo\",\n",
    "        messages=[\n",
    "            {\"role\": \"system\", \"content\": \"You are a cookie categorizer.\"},\n",
    "            {\"role\": \"user\", \"content\": f\"Return JSON object with keys 'Category' and 'Description' for cookie name {name} choose the category from: 'Strictly Necessary Cookies', 'Advertising and Targetting Cookie's, 'Functional Cookies', 'Analytics and Performance Cookies' and description value must be short one line for the web cookie named {name}\"}],\n",
    "        temperature=0 )\n",
    "    text = response.choices[0].message.content.strip()  # remove any extra spaces/newlines\n",
    "    print(\"GPT:\",text)\n",
    "    result = json.loads(text)  # parse JSON\n",
    "    cookies_df.at[i, 'Category'] = result.get('Category', '').strip()\n",
    "    cookies_df.at[i, 'Description'] = result.get('Description', '').strip()\n",
    "    sucess = True #done!\n",
    "    print(f\"Got the category done\")"
   ]
  },
  {
   "cell_type": "code",
   "execution_count": 13,
   "id": "79d9abef-3f25-4bf2-b08d-0a67deea7c96",
   "metadata": {},
   "outputs": [
    {
     "name": "stdout",
     "output_type": "stream",
     "text": [
      "all dates:0   2025-07-26 08:22:24+00:00\n",
      "3   2027-06-26 08:22:19+00:00\n",
      "7   2025-12-23 08:22:20+00:00\n",
      "Name: Expiration, dtype: datetime64[ns, UTC]\n",
      "Minimum date is:2025-07-26 08:22:24+00:00\n",
      "manual_scan_date is:2025-07-26T08:22:24.000Z\n"
     ]
    }
   ],
   "source": [
    "import openpyxl\n",
    "# Find lowest expiration timestamp\n",
    "\n",
    "# Extract the expiration dates after 2000 year\n",
    "cookies_df['Expiration'] = pd.to_datetime(cookies_df['Expiration'],errors = 'coerce')\n",
    "valid_dates = cookies_df[cookies_df['Expiration'].dt.year>=2000]['Expiration']\n",
    "print(f\"all dates:{valid_dates}\")\n",
    "\n",
    "# Find the lowest year to find the cookie scan date\n",
    "min_date = valid_dates.min()\n",
    "print(f\"Minimum date is:{min_date}\")\n",
    "\n",
    "# convert the lowest date into iSO standards\n",
    "manual_scan_date = min_date.strftime('%Y-%m-%dT%H:%M:%S.000Z')\n",
    "print(f\"manual_scan_date is:{manual_scan_date}\")\n",
    "\n",
    "# Need to update the expiration only for the date.\n",
    "cookies_df['Expiration'] = cookies_df['Expiration'].where(\n",
    "    cookies_df['Expiration'].apply(lambda x: isinstance(x,pd.Timestamp)), pd.NaT\n",
    ").apply(lambda x: x.strftime(\"%Y-%m-%dT%H:%M:%S.000Z\") if pd.notna(x) else 'Infinity')\n",
    "\n",
    "# print(\"DataFrame shape:\",cookies_df.shape)\n",
    "# print(\"Column names:\",cookies_df.columns.tolist())\n",
    "# print(\"Last 5 rows:\\n\",cookies_df.head())\n",
    "\n",
    "#Avoid duplicating footer rows and Append Timestamp and Website info\n",
    "if not cookies_df.iloc[-3:, 0].str.contains(\"Time stamp of Manual Scan run\").any():     \n",
    "    cookies_df.loc[len(cookies_df)] = [''] * len(cookies_df.columns)     \n",
    "    cookies_df.loc[len(cookies_df)] = ['Time stamp of Manual Scan run', manual_scan_date] + [''] * (len(cookies_df.columns) - 2)     \n",
    "    domain_value = cookies_df['Domain'].iloc[0] if 'Domain' in cookies_df.columns else ''     \n",
    "    cookies_df.loc[len(cookies_df)] = ['Website', domain_value] + [''] * (len(cookies_df.columns) - 2) \n",
    "\n",
    "# Convert all to string before writing to Excel \n",
    "cookies_df = cookies_df.astype(str)"
   ]
  },
  {
   "cell_type": "code",
   "execution_count": 14,
   "id": "1295a412-51f7-435a-8bce-1195b58ea1ab",
   "metadata": {},
   "outputs": [
    {
     "name": "stdout",
     "output_type": "stream",
     "text": [
      "Done!\n"
     ]
    }
   ],
   "source": [
    "# Write updated data to new Excel files\n",
    "with pd.ExcelWriter(output_file_name,engine='openpyxl') as writer:\n",
    "    cookies_df.to_excel(writer, sheet_name='Cookies', index=False)\n",
    "\n",
    "print(\"Done!\")"
   ]
  },
  {
   "cell_type": "code",
   "execution_count": 34,
   "id": "2baefe9d-9c59-497f-842f-4fa7ac1f1363",
   "metadata": {},
   "outputs": [
    {
     "name": "stdout",
     "output_type": "stream",
     "text": [
      "GPT: {\n",
      "  \"Category\": \"Strictly Necessary Cookies\",\n",
      "  \"Description\": \"Essential for user authentication and security purposes.\"\n",
      "}\n",
      "Got the category done for local storage\n"
     ]
    },
    {
     "name": "stderr",
     "output_type": "stream",
     "text": [
      "D:\\Users\\skotteeswaran\\AppData\\Local\\Temp\\ipykernel_2388\\1940574995.py:17: FutureWarning: Setting an item of incompatible dtype is deprecated and will raise an error in a future version of pandas. Value 'Strictly Necessary Cookies' has dtype incompatible with float64, please explicitly cast to a compatible dtype first.\n",
      "  local_df.at[i, 'Category'] = result.get('Category', '').strip()\n",
      "D:\\Users\\skotteeswaran\\AppData\\Local\\Temp\\ipykernel_2388\\1940574995.py:18: FutureWarning: Setting an item of incompatible dtype is deprecated and will raise an error in a future version of pandas. Value 'Essential for user authentication and security purposes.' has dtype incompatible with float64, please explicitly cast to a compatible dtype first.\n",
      "  local_df.at[i, 'Description'] = result.get('Description', '').strip()\n"
     ]
    },
    {
     "name": "stdout",
     "output_type": "stream",
     "text": [
      "GPT: {\n",
      "  \"Category\": \"Strictly Necessary Cookies\",\n",
      "  \"Description\": \"Essential for user authentication and security purposes.\"\n",
      "}\n",
      "Got the category done for local storage\n",
      "GPT: {\n",
      "  \"Category\": \"Strictly Necessary Cookies\",\n",
      "  \"Description\": \"Stores information related to Microsoft Authentication Library (MSAL) client for authentication purposes.\"\n",
      "}\n",
      "Got the category done for local storage\n",
      "GPT: {\n",
      "  \"Category\": \"Strictly Necessary Cookies\",\n",
      "  \"Description\": \"Stores the user's ID token for authentication purposes.\"\n",
      "}\n",
      "Got the category done for local storage\n",
      "GPT: {\n",
      "    \"Category\": \"Strictly Necessary Cookies\",\n",
      "    \"Description\": \"Essential for website functionality and security.\"\n",
      "}\n",
      "Got the category done for local storage\n",
      "GPT: {\n",
      "    \"Category\": \"Analytics and Performance Cookies\",\n",
      "    \"Description\": \"Collects data on user interaction to improve website performance.\"\n",
      "}\n",
      "Got the category done for local storage\n",
      "Done!\n"
     ]
    }
   ],
   "source": [
    "# Process Local Storage sheet\n",
    "local_df = input_data.get('Local Storage')\n",
    "if local_df is not None:\n",
    "    for i, row in local_df.iterrows():\n",
    "        key = row['Key']  # key name\n",
    " \n",
    "        # Call ChatGPT to get category and description\n",
    "        response = client.chat.completions.create(\n",
    "            model=\"gpt-3.5-turbo\",\n",
    "            messages=[\n",
    "                {\"role\": \"system\", \"content\": \"You are a cookie categorizer.\"},\n",
    "                {\"role\": \"user\", \"content\": f\"Return JSON object with keys 'Category' and 'Description' for local storage cookie name {key} choose the category from: 'Strictly Necessary Cookies', 'Advertising and Targetting Cookie's, 'Functional Cookies', 'Analytics and Performance Cookies' and description value must be short one line for the web cookie named {key}\"}],\n",
    "            temperature=0 )\n",
    "        text = response.choices[0].message.content.strip()  # remove any extra spaces/newlines\n",
    "        print(\"GPT:\",text)\n",
    "        result = json.loads(text)  # parse JSON\n",
    "        local_df.at[i, 'Category'] = result.get('Category', '').strip()\n",
    "        local_df.at[i, 'Description'] = result.get('Description', '').strip()\n",
    "        sucess = True #done!\n",
    "        print(f\"Got the category done for local storage\")"
   ]
  },
  {
   "cell_type": "code",
   "execution_count": 38,
   "id": "bc1617a8-162a-49c9-98bd-0c9f6a5bb71b",
   "metadata": {},
   "outputs": [
    {
     "name": "stdout",
     "output_type": "stream",
     "text": [
      "Done!\n"
     ]
    }
   ],
   "source": [
    "# Write updated data to new Excel files\n",
    "with pd.ExcelWriter(output_file_name,engine='openpyxl', mode='a', if_sheet_exists ='replace') as writer:\n",
    "    local_df.to_excel(writer, sheet_name='Local Storage', index=False)\n",
    "\n",
    "print(\"Done!\")"
   ]
  },
  {
   "cell_type": "code",
   "execution_count": null,
   "id": "a014f811-4885-4579-9466-39c6f7cf9eb2",
   "metadata": {},
   "outputs": [],
   "source": [
    "# Process Session Storage sheet\n",
    "session_df = input_data.get('Session Storage')\n",
    "if session_df is not None:\n",
    "    for i, row in session_df.iterrows():\n",
    "        key = row['Key']  # key name\n",
    " \n",
    "        # Call ChatGPT to get category and description\n",
    "        response = client.chat.completions.create(\n",
    "            model=\"gpt-3.5-turbo\",\n",
    "            messages=[\n",
    "                {\"role\": \"system\", \"content\": \"You are a cookie categorizer.\"},\n",
    "                {\"role\": \"user\", \"content\": f\"Return JSON object with keys 'Category' and 'Description' for local storage cookie name {key} choose the category from: 'Strictly Necessary Cookies', 'Advertising and Targetting Cookie's, 'Functional Cookies', 'Analytics and Performance Cookies' and description value must be short one line for the web cookie named {key}\"}],\n",
    "            temperature=0 )\n",
    "        text = response.choices[0].message.content.strip()  # remove any extra spaces/newlines\n",
    "        print(\"GPT:\",text)\n",
    "        result = json.loads(text)  # parse JSON\n",
    "        session_df.at[i, 'Category'] = result.get('Category', '').strip()\n",
    "        session_df.at[i, 'Description'] = result.get('Description', '').strip()\n",
    "        sucess = True #done!\n",
    "        print(f\"Got the category done for Session storage\")"
   ]
  },
  {
   "cell_type": "code",
   "execution_count": null,
   "id": "fac834c4-9ea1-4173-9a3e-4c0133b332e7",
   "metadata": {},
   "outputs": [],
   "source": [
    "# Write updated data to new Excel files\n",
    "with pd.ExcelWriter(output_file_name,engine='openpyxl', mode='a', if_sheet_exists ='replace') as writer:\n",
    "    session_df.to_excel(writer, sheet_name='Local Storage', index=False)\n",
    "\n",
    "print(\"Done!\")"
   ]
  }
 ],
 "metadata": {
  "kernelspec": {
   "display_name": "Python 3 (ipykernel)",
   "language": "python",
   "name": "python3"
  },
  "language_info": {
   "codemirror_mode": {
    "name": "ipython",
    "version": 3
   },
   "file_extension": ".py",
   "mimetype": "text/x-python",
   "name": "python",
   "nbconvert_exporter": "python",
   "pygments_lexer": "ipython3",
   "version": "3.12.7"
  }
 },
 "nbformat": 4,
 "nbformat_minor": 5
}
